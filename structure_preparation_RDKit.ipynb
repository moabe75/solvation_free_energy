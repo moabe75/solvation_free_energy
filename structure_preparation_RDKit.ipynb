{
  "nbformat": 4,
  "nbformat_minor": 0,
  "metadata": {
    "colab": {
      "provenance": [],
      "authorship_tag": "ABX9TyOS/66u6/t1ev4y/f9uneQN",
      "include_colab_link": true
    },
    "kernelspec": {
      "name": "python3",
      "display_name": "Python 3"
    },
    "language_info": {
      "name": "python"
    }
  },
  "cells": [
    {
      "cell_type": "markdown",
      "metadata": {
        "id": "view-in-github",
        "colab_type": "text"
      },
      "source": [
        "<a href=\"https://colab.research.google.com/github/moabe75/solvation_free_energy/blob/main/structure_preparation_RDKit.ipynb\" target=\"_parent\"><img src=\"https://colab.research.google.com/assets/colab-badge.svg\" alt=\"Open In Colab\"/></a>"
      ]
    },
    {
      "cell_type": "code",
      "source": [
        "# Install the RDKit package and mols2grid molecule viewer\n",
        "!pip install rdkit-pypi\n",
        "!pip install mols2grid"
      ],
      "metadata": {
        "id": "4Z6cL7RsMf7D"
      },
      "execution_count": null,
      "outputs": []
    },
    {
      "cell_type": "code",
      "source": [
        "# Import libraries\n",
        "from rdkit import Chem\n",
        "from rdkit.Chem import AllChem, Draw, Descriptors, PandasTools\n",
        "from rdkit.Chem.Draw import IPythonConsole\n",
        "IPythonConsole.ipython_use_SVG = True\n",
        "import mols2grid\n",
        "\n",
        "import pandas as pd\n",
        "import numpy as np\n",
        "import os"
      ],
      "metadata": {
        "id": "nzX2jWGaDP9t"
      },
      "execution_count": 2,
      "outputs": []
    },
    {
      "cell_type": "code",
      "source": [
        "# Get some info about the sdf file\n",
        "sdf_file = \"molecules_ChEMBL.sdf\"\n",
        "mols = PandasTools.LoadSDF(sdf_file)\n",
        "mols.info()"
      ],
      "metadata": {
        "id": "1GUV9nXPHbea",
        "colab": {
          "base_uri": "https://localhost:8080/"
        },
        "outputId": "b570a4ef-ddf7-46e0-f0f0-147b9f265d28"
      },
      "execution_count": 4,
      "outputs": [
        {
          "output_type": "stream",
          "name": "stdout",
          "text": [
            "<class 'pandas.core.frame.DataFrame'>\n",
            "Int64Index: 2586 entries, 0 to 2585\n",
            "Data columns (total 4 columns):\n",
            " #   Column            Non-Null Count  Dtype \n",
            "---  ------            --------------  ----- \n",
            " 0   chembl_id         2586 non-null   object\n",
            " 1   chembl_pref_name  2586 non-null   object\n",
            " 2   ID                2586 non-null   object\n",
            " 3   ROMol             2586 non-null   object\n",
            "dtypes: object(4)\n",
            "memory usage: 101.0+ KB\n"
          ]
        }
      ]
    },
    {
      "cell_type": "code",
      "source": [
        "# Convert sdf files to SMILES\n",
        "sdf_file = Chem.SDMolSupplier('molecules_ChEMBL.sdf')\n",
        "smiles_file = open('smiles.smi', \"w\")\n",
        "for mol in sdf_file:\n",
        "  if mol is not None:\n",
        "    smi = Chem.MolToSmiles(mol)\n",
        "    smiles_file.write(f\"{smi}\\n\")"
      ],
      "metadata": {
        "id": "fGXOupcBv54T"
      },
      "execution_count": null,
      "outputs": []
    },
    {
      "cell_type": "code",
      "source": [
        "# Total number of molecules after conversion\n",
        "print('Total Number of Molecules =', len(open('smiles.smi', 'r').readlines()))"
      ],
      "metadata": {
        "id": "l1zmqB2cuq_h",
        "colab": {
          "base_uri": "https://localhost:8080/"
        },
        "outputId": "c27f267a-1604-487f-bc46-a2c832d0b922"
      },
      "execution_count": 6,
      "outputs": [
        {
          "output_type": "stream",
          "name": "stdout",
          "text": [
            "Total Number of Molecules = 2530\n"
          ]
        }
      ]
    },
    {
      "cell_type": "code",
      "source": [
        "# Obtain info about the aromatic and aliphatic rings and molecular weight \n",
        "smiles_file = open('smiles.smi', 'r')\n",
        "j = k = l = 0\n",
        "for mol in smiles_file:\n",
        "  mols = Chem.MolFromSmiles(mol) \n",
        "  if Descriptors.NumAromaticRings(mols) == 1: j += 1   \n",
        "  if Descriptors.NumAromaticRings(mols) == 1 and Descriptors.NumAliphaticRings(mols) == 1: k += 1\n",
        "  if Descriptors.ExactMolWt(mols) <= 150: l += 1\n",
        "      \n",
        "print('Total number of molecules with 1 aromatic ring =', str(j))\n",
        "print('Total number of molecules with 1 aromatic ring and 1 aliphatic ring =', str(k), '\\n')\n",
        "print('Total number of molecules with molecular weight <= 150 =', str(l))"
      ],
      "metadata": {
        "id": "XYRAxKgOrHeR",
        "colab": {
          "base_uri": "https://localhost:8080/"
        },
        "outputId": "d992391f-0267-4cab-c4b9-ee8f1afd03c4"
      },
      "execution_count": 7,
      "outputs": [
        {
          "output_type": "stream",
          "name": "stdout",
          "text": [
            "Total number of molecules with 1 aromatic ring = 2530\n",
            "Total number of molecules with 1 aromatic ring and 1 aliphatic ring = 321 \n",
            "\n",
            "Total number of molecules with molecular weight <= 150 = 2530\n"
          ]
        }
      ]
    },
    {
      "cell_type": "code",
      "source": [
        "# Let's visualize the molecular structures\n",
        "smiles_file = open('smiles.smi', 'r')\n",
        "mols = [Chem.MolFromSmiles(smi) for smi in smiles_file]\n",
        "Draw.MolsToGridImage(mols, molsPerRow = 4, useSVG = True)\n",
        "mols2grid.display(mols)"
      ],
      "metadata": {
        "id": "hco_K4nM2lto"
      },
      "execution_count": null,
      "outputs": []
    },
    {
      "cell_type": "code",
      "source": [
        "# Add H atoms, optimize with the UFF force field, and convert to the XYZ coordinate \n",
        "smiles_file = open('smiles.smi', 'r')\n",
        "k = 1\n",
        "dirName = 'xyz_files'\n",
        "for mol in smiles_file:\n",
        "  mol = Chem.MolFromSmiles(mol)\n",
        "  mol = Chem.AddHs(mol)\n",
        "  AllChem.Compute2DCoords(mol)\n",
        "  AllChem.EmbedMolecule(mol)\n",
        "  AllChem.UFFOptimizeMolecule(mol)\n",
        "\n",
        "  xyz_file = open(os.path.join(dirName,'mol_' + str(k) + '.xyz'), 'w')\n",
        "  xyz_file.write(Chem.MolToXYZBlock(mol) + '\\n')\n",
        "  k += 1"
      ],
      "metadata": {
        "id": "qz0tJpzb5Vrl"
      },
      "execution_count": null,
      "outputs": []
    },
    {
      "cell_type": "code",
      "source": [
        "# Download all XYZ files for the DFT calculations\n",
        "from google.colab import files\n",
        "!zip -r /content/xyz_files.zip /content/xyz_files\n",
        "files.download(\"/content/xyz_files.zip\")"
      ],
      "metadata": {
        "id": "z9yBFR_MwiL8"
      },
      "execution_count": null,
      "outputs": []
    }
  ]
}