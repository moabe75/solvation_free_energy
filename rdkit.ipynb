{
  "nbformat": 4,
  "nbformat_minor": 0,
  "metadata": {
    "colab": {
      "provenance": [],
      "authorship_tag": "ABX9TyMRFCsZYP9EbvgeHaoL7KBE",
      "include_colab_link": true
    },
    "kernelspec": {
      "name": "python3",
      "display_name": "Python 3"
    },
    "language_info": {
      "name": "python"
    }
  },
  "cells": [
    {
      "cell_type": "markdown",
      "metadata": {
        "id": "view-in-github",
        "colab_type": "text"
      },
      "source": [
        "<a href=\"https://colab.research.google.com/github/moabe75/solvation_free_energy/blob/main/rdkit.ipynb\" target=\"_parent\"><img src=\"https://colab.research.google.com/assets/colab-badge.svg\" alt=\"Open In Colab\"/></a>"
      ]
    },
    {
      "cell_type": "code",
      "source": [
        "!pip install rdkit-pypi\n",
        "!pip install mols2grid"
      ],
      "metadata": {
        "id": "4Z6cL7RsMf7D"
      },
      "execution_count": null,
      "outputs": []
    },
    {
      "cell_type": "code",
      "source": [
        "from rdkit import Chem\n",
        "from rdkit.Chem import AllChem\n",
        "from rdkit.Chem import Draw\n",
        "from rdkit.Chem import Descriptors\n",
        "import pandas as pd\n",
        "import numpy as np\n",
        "from rdkit.Chem import PandasTools\n",
        "from rdkit.Chem.Draw import IPythonConsole\n",
        "IPythonConsole.ipython_use_SVG = True\n",
        "import mols2grid\n",
        "import os"
      ],
      "metadata": {
        "id": "nzX2jWGaDP9t"
      },
      "execution_count": 2,
      "outputs": []
    },
    {
      "cell_type": "code",
      "source": [
        "SDFFile = \"molecules_ChEMBL.sdf\"\n",
        "mols = PandasTools.LoadSDF(SDFFile)\n",
        "mols.info()"
      ],
      "metadata": {
        "id": "1GUV9nXPHbea",
        "colab": {
          "base_uri": "https://localhost:8080/"
        },
        "outputId": "8c1de020-e3ff-4902-d71f-38dc6d3d92c5"
      },
      "execution_count": 3,
      "outputs": [
        {
          "output_type": "stream",
          "name": "stdout",
          "text": [
            "<class 'pandas.core.frame.DataFrame'>\n",
            "Int64Index: 2586 entries, 0 to 2585\n",
            "Data columns (total 4 columns):\n",
            " #   Column            Non-Null Count  Dtype \n",
            "---  ------            --------------  ----- \n",
            " 0   chembl_id         2586 non-null   object\n",
            " 1   chembl_pref_name  2586 non-null   object\n",
            " 2   ID                2586 non-null   object\n",
            " 3   ROMol             2586 non-null   object\n",
            "dtypes: object(4)\n",
            "memory usage: 101.0+ KB\n"
          ]
        }
      ]
    },
    {
      "cell_type": "code",
      "source": [
        "sdf_file = Chem.SDMolSupplier('1ring_mw_150_ChEMBL.sdf')\n",
        "out_file = open('smiles.smi', \"w\")\n",
        "for mol in sdf_file:\n",
        "  if mol is not None:\n",
        "    smi = Chem.MolToSmiles(mol)\n",
        "    out_file.write(f\"{smi}\\n\")"
      ],
      "metadata": {
        "id": "fGXOupcBv54T"
      },
      "execution_count": null,
      "outputs": []
    },
    {
      "cell_type": "code",
      "source": [
        "with open('smiles.smi', 'r') as smiles:\n",
        "  mols = [Chem.MolFromSmiles(smi) for smi in smiles]"
      ],
      "metadata": {
        "id": "AScvYIWxxGUj"
      },
      "execution_count": null,
      "outputs": []
    },
    {
      "cell_type": "code",
      "source": [
        "Draw.MolsToGridImage(mols, molsPerRow = 5, useSVG = True)\n",
        "mols2grid.display(mols)"
      ],
      "metadata": {
        "id": "hco_K4nM2lto"
      },
      "execution_count": null,
      "outputs": []
    },
    {
      "cell_type": "code",
      "source": [
        "with open('smiles.smi', 'r') as f:\n",
        "  k = 1\n",
        "  dirName = 'xyz_files'\n",
        "  for mol in f:\n",
        "    mol = Chem.MolFromSmiles(mol)\n",
        "    mol = Chem.AddHs(mol)\n",
        "    AllChem.Compute2DCoords(mol)\n",
        "    AllChem.EmbedMolecule(mol)\n",
        "    AllChem.UFFOptimizeMolecule(mol)\n",
        "\n",
        "    with open(os.path.join(dirName,'mol_' + str(k) + '.xyz'), 'w') as f:\n",
        "      f.write(Chem.MolToXYZBlock(mol) + '\\n')\n",
        "    k += 1"
      ],
      "metadata": {
        "id": "qz0tJpzb5Vrl"
      },
      "execution_count": null,
      "outputs": []
    },
    {
      "cell_type": "code",
      "source": [
        "from google.colab import files\n",
        "!zip -r /content/xyz_files.zip /content/xyz_files\n",
        "files.download(\"/content/xyz_files.zip\")"
      ],
      "metadata": {
        "id": "z9yBFR_MwiL8"
      },
      "execution_count": null,
      "outputs": []
    }
  ]
}